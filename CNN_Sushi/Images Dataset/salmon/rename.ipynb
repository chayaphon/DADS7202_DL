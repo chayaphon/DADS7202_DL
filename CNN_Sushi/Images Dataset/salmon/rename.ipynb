{
 "cells": [
  {
   "cell_type": "code",
   "execution_count": 2,
   "metadata": {},
   "outputs": [
    {
     "name": "stdout",
     "output_type": "stream",
     "text": [
      "Renamed: 10.jpg to image1.jpg\n",
      "Renamed: 12.jpg to image2.jpg\n",
      "Renamed: 13.jpg to image3.jpg\n",
      "Renamed: 14.jpg to image4.jpg\n",
      "Renamed: 15.jpg to image5.jpg\n",
      "Renamed: 20.jpg to image6.jpg\n",
      "Renamed: 22.jpg to image7.jpg\n",
      "Renamed: 222.jpg to image8.jpg\n",
      "Renamed: 3.jpg to image9.jpg\n",
      "Renamed: 34.jpg to image10.jpg\n",
      "Renamed: 38.jpg to image11.jpg\n",
      "Renamed: 4.jpg to image12.jpg\n",
      "Renamed: 44.jpg to image13.jpg\n",
      "Renamed: 444.jpg to image14.jpg\n",
      "Renamed: 66.jpg to image15.jpg\n",
      "Renamed: 7.jpg to image16.jpg\n",
      "Renamed: 778.jpg to image17.jpg\n",
      "Renamed: 88.jpg to image18.jpg\n",
      "Renamed: 99.jpg to image19.jpg\n"
     ]
    }
   ],
   "source": [
    "import os\n",
    "\n",
    "# Define the folder where your images are located (remove the trailing backslash or double it)\n",
    "folder_path = '.'\n",
    "\n",
    "# Change this to match the extension of the images you are renaming\n",
    "valid_extensions = ['.jpg', '.jpeg', '.png', '.gif', '.bmp']  # Add more extensions if needed\n",
    "\n",
    "def rename_images(folder_path):\n",
    "    # List all files in the directory\n",
    "    files = os.listdir(folder_path)\n",
    "    \n",
    "    image_count = 1\n",
    "    \n",
    "    for filename in files:\n",
    "        # Get file extension\n",
    "        file_extension = os.path.splitext(filename)[1]\n",
    "        \n",
    "        # Check if the file is an image based on the extension\n",
    "        if file_extension.lower() in valid_extensions:\n",
    "            new_name = f'image{image_count}{file_extension}'\n",
    "            \n",
    "            # Get the full paths\n",
    "            old_file = os.path.join(folder_path, filename)\n",
    "            new_file = os.path.join(folder_path, new_name)\n",
    "            \n",
    "            # Rename the file\n",
    "            os.rename(old_file, new_file)\n",
    "            print(f'Renamed: {filename} to {new_name}')\n",
    "            \n",
    "            image_count += 1\n",
    "\n",
    "# Call the function\n",
    "rename_images(folder_path)\n"
   ]
  },
  {
   "cell_type": "code",
   "execution_count": null,
   "metadata": {},
   "outputs": [],
   "source": []
  }
 ],
 "metadata": {
  "kernelspec": {
   "display_name": "base",
   "language": "python",
   "name": "python3"
  },
  "language_info": {
   "codemirror_mode": {
    "name": "ipython",
    "version": 3
   },
   "file_extension": ".py",
   "mimetype": "text/x-python",
   "name": "python",
   "nbconvert_exporter": "python",
   "pygments_lexer": "ipython3",
   "version": "3.11.5"
  }
 },
 "nbformat": 4,
 "nbformat_minor": 2
}
