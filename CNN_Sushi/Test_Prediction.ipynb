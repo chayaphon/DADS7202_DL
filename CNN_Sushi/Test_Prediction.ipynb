{
 "cells": [
  {
   "cell_type": "markdown",
   "metadata": {},
   "source": [
    "<a href=\"https://colab.research.google.com/github/chayaphon/DADS7202_DL/blob/main/CNN_Sushi/Test_Prediction.ipynb\\\" target=\"_parent\"><img src=\"https://colab.research.google.com/assets/colab-badge.svg\" alt=\"Open In Colab\"/></a>"
   ]
  },
  {
   "cell_type": "code",
   "execution_count": 1,
   "metadata": {},
   "outputs": [],
   "source": [
    "import tensorflow as tf\n",
    "from tensorflow.keras.applications.vgg16 import VGG16, preprocess_input, decode_predictions\n",
    "from tensorflow.keras.preprocessing import image\n",
    "import numpy as np"
   ]
  },
  {
   "cell_type": "markdown",
   "metadata": {},
   "source": [
    "# VGG16"
   ]
  },
  {
   "cell_type": "code",
   "execution_count": 7,
   "metadata": {},
   "outputs": [
    {
     "name": "stdout",
     "output_type": "stream",
     "text": [
      "WARNING:tensorflow:6 out of the last 6 calls to <function Model.make_predict_function.<locals>.predict_function at 0x00000187BE489A60> triggered tf.function retracing. Tracing is expensive and the excessive number of tracings could be due to (1) creating @tf.function repeatedly in a loop, (2) passing tensors with different shapes, (3) passing Python objects instead of tensors. For (1), please define your @tf.function outside of the loop. For (2), @tf.function has reduce_retracing=True option that can avoid unnecessary retracing. For (3), please refer to https://www.tensorflow.org/guide/function#controlling_retracing and https://www.tensorflow.org/api_docs/python/tf/function for  more details.\n",
      "1/1 [==============================] - 0s 75ms/step\n",
      "1: scorpion (71.59%)\n",
      "2: king_crab (6.42%)\n",
      "3: fiddler_crab (3.69%)\n",
      "4: matchstick (2.02%)\n",
      "5: corkscrew (1.59%)\n",
      "6: rock_crab (1.30%)\n",
      "7: barn_spider (0.94%)\n",
      "8: hook (0.76%)\n",
      "9: necklace (0.71%)\n",
      "10: nail (0.48%)\n"
     ]
    }
   ],
   "source": [
    "# Load the VGG16 model pre-trained on ImageNet\n",
    "model = VGG16(weights='imagenet')\n",
    "\n",
    "# Load and preprocess the image\n",
    "img_path = './img/test/crab.png'  # Replace with the path to your image\n",
    "img = image.load_img(img_path, target_size=(224, 224))  # VGG16 expects 224x224 images\n",
    "x = image.img_to_array(img)\n",
    "x = np.expand_dims(x, axis=0)  # Add batch dimension\n",
    "x = preprocess_input(x)  # Preprocess for ImageNet\n",
    "\n",
    "# Predict and decode the top-5 predictions\n",
    "predictions = model.predict(x)\n",
    "decoded_predictions = decode_predictions(predictions, top=5)[0]\n",
    "\n",
    "# Print the top-5 predictions\n",
    "for i, (imagenet_id, label, score) in enumerate(decoded_predictions):\n",
    "    print(f\"{i+1}: {label} ({score * 100:.2f}%)\")\n"
   ]
  },
  {
   "cell_type": "markdown",
   "metadata": {},
   "source": [
    "# Load VGG16_Sushi_Enhancement_Model"
   ]
  },
  {
   "cell_type": "code",
   "execution_count": 35,
   "metadata": {},
   "outputs": [
    {
     "name": "stdout",
     "output_type": "stream",
     "text": [
      "1/1 [==============================] - 0s 99ms/step\n",
      "1: sushi_ebi (100.00%)\n",
      "2: sushi_salmon (0.00%)\n",
      "3: sushi_maguro (0.00%)\n",
      "4: sushi_aburi (0.00%)\n"
     ]
    }
   ],
   "source": [
    "# Load the fine-tuned model\n",
    "model = tf.keras.models.load_model('./save/VGG16_FineTune_model.h5')\n",
    "\n",
    "class_labels = ['sushi_aburi','sushi_ebi','sushi_maguro','sushi_salmon']\n",
    "\n",
    "# Load and preprocess the image\n",
    "img_path = './Images Dataset/ebi/ebi_black10.jpg'\n",
    "img = image.load_img(img_path, target_size=(224, 224)) \n",
    "x = image.img_to_array(img)\n",
    "x = np.expand_dims(x, axis=0)\n",
    "x = preprocess_input(x)\n",
    "\n",
    "predictions = model.predict(x)\n",
    "\n",
    "top_predictions = np.argsort(predictions[0])[::-1]  # Sort by confidence, highest first\n",
    "top_5_indices = top_predictions[:5]  # Get the top 5 class indices\n",
    "\n",
    "# Print the top-5 predictions with class labels and their confidence scores\n",
    "for i, idx in enumerate(top_5_indices):\n",
    "    print(f\"{i+1}: {class_labels[idx]} ({predictions[0][idx] * 100:.2f}%)\")"
   ]
  }
 ],
 "metadata": {
  "kernelspec": {
   "display_name": "DADS7202",
   "language": "python",
   "name": "python3"
  },
  "language_info": {
   "codemirror_mode": {
    "name": "ipython",
    "version": 3
   },
   "file_extension": ".py",
   "mimetype": "text/x-python",
   "name": "python",
   "nbconvert_exporter": "python",
   "pygments_lexer": "ipython3",
   "version": "3.9.18"
  }
 },
 "nbformat": 4,
 "nbformat_minor": 2
}
